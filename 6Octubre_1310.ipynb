{
  "nbformat": 4,
  "nbformat_minor": 0,
  "metadata": {
    "colab": {
      "name": "Untitled1.ipynb",
      "provenance": [],
      "authorship_tag": "ABX9TyOkkgcV0JOnc3wE4/u66khk",
      "include_colab_link": true
    },
    "kernelspec": {
      "name": "python3",
      "display_name": "Python 3"
    }
  },
  "cells": [
    {
      "cell_type": "markdown",
      "metadata": {
        "id": "view-in-github",
        "colab_type": "text"
      },
      "source": [
        "<a href=\"https://colab.research.google.com/github/leonardobc52/edd_1310_2021/blob/master/6Octubre_1310.ipynb\" target=\"_parent\"><img src=\"https://colab.research.google.com/assets/colab-badge.svg\" alt=\"Open In Colab\"/></a>"
      ]
    },
    {
      "cell_type": "code",
      "metadata": {
        "id": "tLv6jyKSqizz",
        "outputId": "605ee276-8bc6-4b19-e7c2-6ea96c6a00f4",
        "colab": {
          "base_uri": "https://localhost:8080/",
          "height": 129
        }
      },
      "source": [
        "#String continuacion\n",
        "\n",
        "numeros_txt = \"     1, 2, 3, 4, 5   ,35        ,15  , 12\"\n",
        "print(numeros_txt)\n",
        "numeros_txt = numeros_txt.lstrip().split(',')\n",
        "print(numeros_txt)\n",
        "\n",
        "for j in range(len(numeros_txt)):\n",
        "  numeros_txt[ j ] = int(numeros_txt[j].strip())\n",
        "\n",
        "print(numeros_txt)\n",
        "\n",
        "# funcion range()\n",
        "\n",
        "# range(inicio , stop , incremento)\n",
        "print(range(1,10,3))\n",
        "rango = range(1,10,2)\n",
        "\n",
        "for x in rango: \n",
        "  print(x)\n",
        "\n",
        "rango= range(10)\n",
        "for x in rango"
      ],
      "execution_count": 39,
      "outputs": [
        {
          "output_type": "error",
          "ename": "SyntaxError",
          "evalue": "ignored",
          "traceback": [
            "\u001b[0;36m  File \u001b[0;32m\"<ipython-input-39-d909c2c80249>\"\u001b[0;36m, line \u001b[0;32m23\u001b[0m\n\u001b[0;31m    for x in rango\u001b[0m\n\u001b[0m                  ^\u001b[0m\n\u001b[0;31mSyntaxError\u001b[0m\u001b[0;31m:\u001b[0m invalid syntax\n"
          ]
        }
      ]
    },
    {
      "cell_type": "markdown",
      "metadata": {
        "id": "gtzcuC9QxG0g"
      },
      "source": [
        "#listas\n",
        "- mutables\n",
        "- declaran con [ ]\n",
        "- selector [ int ]\n",
        "- Pueden ser de culquer tipo y mezclados\n",
        "\n",
        "#tuplas\n",
        "- No mutables\n",
        "- Declaran con ( )\n",
        "- Selectos [ int ]\n",
        "\n",
        "#diccionarios\n",
        "- Son mutables\n",
        "- Son con juntos de pares llave:valor\n",
        "- Equivalentes a los obhetos JSon de JavaScript\n",
        "\n",
        "#conjuntos\n",
        "- Representacion de la teoria de conjuntos"
      ]
    },
    {
      "cell_type": "code",
      "metadata": {
        "id": "WCzcIrSXx7Su",
        "outputId": "e675e041-82d3-4155-a0c1-82a7ae071646",
        "colab": {
          "base_uri": "https://localhost:8080/",
          "height": 136
        }
      },
      "source": [
        "# Listas\n",
        "frutas = [ \"Pera\" , \"Manzana\" , \"fresa\" , \"Kiwi\" , \"Naranja\"]\n",
        "print(frutas)\n",
        "cosas = [\"Cuaderno\" , 2 , 3.1416 , True , False , [\"Rojo\" , \"Azul\"]]\n",
        "print(cosas)\n",
        "frutas[2] = \"Fresa\"   # frutas[2] = frutas[2].capitalize()\n",
        "print(frutas)\n",
        "# agregar a lista\n",
        "frutas.append(\"Aguacate\")  #Append: agrega elementos al final, pero solo uno por append\n",
        "print(frutas)\n",
        "frutas.insert(2, \"Sandia\") #Insert: Lo agrega donde uno selecione (posicion, objeto)\n",
        "print(frutas)\n",
        "\n",
        "fecha = [\"06\" , \"10\" , \"2020\" ] #06/10/2020\n",
        "print(fecha)\n",
        "\"\"\"Join: Al mandarle una lista te regresa una cadena\n",
        "concatenada donde el separador es lo que desees \"separador\".join(lista)\n",
        "\"\"\"\n",
        "fecha_str= \"/\".join(fecha) \n",
        "print(fecha_str)\n",
        "\n",
        "\n"
      ],
      "execution_count": 41,
      "outputs": [
        {
          "output_type": "stream",
          "text": [
            "['Pera', 'Manzana', 'fresa', 'Kiwi', 'Naranja']\n",
            "['Cuaderno', 2, 3.1416, True, False, ['Rojo', 'Azul']]\n",
            "['Pera', 'Manzana', 'Fresa', 'Kiwi', 'Naranja']\n",
            "['Pera', 'Manzana', 'Fresa', 'Kiwi', 'Naranja', 'Aguacate']\n",
            "['Pera', 'Manzana', 'Sandia', 'Fresa', 'Kiwi', 'Naranja', 'Aguacate']\n",
            "['06', '10', '2020']\n",
            "06/10/2020\n"
          ],
          "name": "stdout"
        }
      ]
    },
    {
      "cell_type": "code",
      "metadata": {
        "id": "aLiDAs5G3RZv",
        "outputId": "dab19c27-a011-4ba7-d424-9bfd3e0afda5",
        "colab": {
          "base_uri": "https://localhost:8080/",
          "height": 187
        }
      },
      "source": [
        "# Eliminar elementos \n",
        "\"\"\"Pop: Si no le pones index elimina al final, \n",
        "si le pones es en la posicion que deses, \n",
        "y para que no lo pierdas lo metes es una variable diferente\n",
        "\n",
        "Remove: Eliminara al buscar en la lista la primera coincidencia\n",
        "\"\"\"\n",
        "print(cosas)\n",
        "cosas.append(\"Libro\")\n",
        "cosas.append(\"Lapiz\")\n",
        "print(cosas)\n",
        "algo = cosas.pop()\n",
        "print(cosas)\n",
        "print(algo)\n",
        "\n",
        "algo = cosas.pop(2)\n",
        "print(cosas)\n",
        "print(algo)\n",
        "\n",
        "cosas.remove(2)\n",
        "print(cosas)\n",
        "\n",
        "#Vaciar una lista Clear: Elimina todo lo que contiene la lista\n",
        "\n",
        "cosas.clear()\n",
        "print(cosas)\n",
        "\n",
        "#Ordenar  No se puede comparar distintos tipos de variables para ver quien es mayor\n",
        "print(frutas)\n",
        "frutas.sort()\n",
        "print(frutas)"
      ],
      "execution_count": 42,
      "outputs": [
        {
          "output_type": "stream",
          "text": [
            "['Cuaderno', 2, 3.1416, True, False, ['Rojo', 'Azul']]\n",
            "['Cuaderno', 2, 3.1416, True, False, ['Rojo', 'Azul'], 'Libro', 'Lapiz']\n",
            "['Cuaderno', 2, 3.1416, True, False, ['Rojo', 'Azul'], 'Libro']\n",
            "Lapiz\n",
            "['Cuaderno', 2, True, False, ['Rojo', 'Azul'], 'Libro']\n",
            "3.1416\n",
            "['Cuaderno', True, False, ['Rojo', 'Azul'], 'Libro']\n",
            "[]\n",
            "['Pera', 'Manzana', 'Sandia', 'Fresa', 'Kiwi', 'Naranja', 'Aguacate']\n",
            "['Aguacate', 'Fresa', 'Kiwi', 'Manzana', 'Naranja', 'Pera', 'Sandia']\n"
          ],
          "name": "stdout"
        }
      ]
    },
    {
      "cell_type": "code",
      "metadata": {
        "id": "lFlXq1dT7IQs",
        "outputId": "02edc6c8-7086-4549-c585-de153c0c4c3e",
        "colab": {
          "base_uri": "https://localhost:8080/",
          "height": 153
        }
      },
      "source": [
        "# Slicing No modifica la lista, solo muestra la parte que le pides\n",
        "\n",
        "cosas = [\"Cuaderno\" , 2 , 3.1416 , True , False , [\"Rojo\" , \"Azul\"]]\n",
        "print(cosas[3:5:1])\n",
        "print(cosas)\n",
        "\n",
        "print(cosas[0][3:5:1])\n",
        "\n",
        "numeros = [0,1,2,3,4,5,6,7,8,9,10,11,12,13,14,15]\n",
        "print(numeros[8:13:1])\n",
        "print(numeros[:13:])\n",
        "\n",
        "#Sustitui rebanadas -2,-2 ->[0,1,2,3,4,5,6,7,-2,-2,13,14,15]\n",
        "\n",
        "numeros[8:13:] = [-2,-2]\n",
        "print(numeros)\n",
        "\n",
        "# Pregntar por existencia \"in\"\n",
        "print(-2 in numeros)\n",
        "print(100 in numeros)"
      ],
      "execution_count": 50,
      "outputs": [
        {
          "output_type": "stream",
          "text": [
            "[True, False]\n",
            "['Cuaderno', 2, 3.1416, True, False, ['Rojo', 'Azul']]\n",
            "de\n",
            "[8, 9, 10, 11, 12]\n",
            "[0, 1, 2, 3, 4, 5, 6, 7, 8, 9, 10, 11, 12]\n",
            "[0, 1, 2, 3, 4, 5, 6, 7, -2, -2, 13, 14, 15]\n",
            "True\n",
            "False\n"
          ],
          "name": "stdout"
        }
      ]
    },
    {
      "cell_type": "markdown",
      "metadata": {
        "id": "3-smsPip-jjd"
      },
      "source": [
        "#Listas multidimension\n",
        "\n",
        "listas dentro de listas"
      ]
    },
    {
      "cell_type": "code",
      "metadata": {
        "id": "hAtWUEoo-r1K",
        "outputId": "00a0d0e3-3c9f-46c7-faf8-03bee5d513a1",
        "colab": {
          "base_uri": "https://localhost:8080/",
          "height": 190
        }
      },
      "source": [
        "computadoras = [\"HP\" , \"Mac BOOK Pro 17\" , \"Mate book\" , \"Lenovo legion\"]\n",
        "oss = [\"Windows 10\" , \"Linux\", \"Android\" , \"iOS\"]\n",
        "\n",
        "computo =[computadoras , oss]\n",
        "print(computo[0])\n",
        "print(computo[1])\n",
        "print(computo[0][2])\n",
        "print(computo[0][2][0:5])\n",
        "print(computo[0][3][5: :-1])\n",
        "print(computo[0][3][-8: :-1])\n",
        "print(\"Linux\" in computo[1])\n",
        "dbms = [ [\"Mysql\", \"Open Source\" , False] , [\"MS SQL Server\" , \"De paga\" , True] ]\n",
        "computo.append(dbms)\n",
        "print(computo)\n",
        "print(computo[2][0][0])\n"
      ],
      "execution_count": 63,
      "outputs": [
        {
          "output_type": "stream",
          "text": [
            "['HP', 'Mac BOOK Pro 17', 'Mate book', 'Lenovo legion']\n",
            "['Windows 10', 'Linux', 'Android', 'iOS']\n",
            "Mate book\n",
            "Mate \n",
            "ovoneL\n",
            "ovoneL\n",
            "True\n",
            "[['HP', 'Mac BOOK Pro 17', 'Mate book', 'Lenovo legion'], ['Windows 10', 'Linux', 'Android', 'iOS'], [['Mysql', 'Open Source', False], ['MS SQL Server', 'De paga', True]]]\n",
            "Mysql\n"
          ],
          "name": "stdout"
        }
      ]
    },
    {
      "cell_type": "code",
      "metadata": {
        "id": "243CmM_dzz4f"
      },
      "source": [
        "help(list)  \n",
        "\"\"\"\n",
        "Las que tienen _ no se deben utilizar porque\n",
        "son de uso interno, se recomienda estudairlarlas antes\n",
        "\"\"\""
      ],
      "execution_count": null,
      "outputs": []
    }
  ]
}