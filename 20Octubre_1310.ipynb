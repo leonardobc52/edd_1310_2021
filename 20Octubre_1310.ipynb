{
  "nbformat": 4,
  "nbformat_minor": 0,
  "metadata": {
    "colab": {
      "name": "20Octubre_1310.ipynb",
      "provenance": [],
      "authorship_tag": "ABX9TyPaGWZ4Kutpw6fvAscAEZ7e",
      "include_colab_link": true
    },
    "kernelspec": {
      "name": "python3",
      "display_name": "Python 3"
    }
  },
  "cells": [
    {
      "cell_type": "markdown",
      "metadata": {
        "id": "view-in-github",
        "colab_type": "text"
      },
      "source": [
        "<a href=\"https://colab.research.google.com/github/leonardobc52/edd_1310_2021/blob/master/20Octubre_1310.ipynb\" target=\"_parent\"><img src=\"https://colab.research.google.com/assets/colab-badge.svg\" alt=\"Open In Colab\"/></a>"
      ]
    },
    {
      "cell_type": "code",
      "metadata": {
        "id": "EL1LYHrFuphn"
      },
      "source": [
        " archivo = open ('numeros.txt','rt')\n",
        " total=\n",
        " for linea in archivo.readlines():\n",
        "   for num in linea.split(','):\n",
        "     total_linea\n",
        "     print(int(num.strip()))"
      ],
      "execution_count": null,
      "outputs": []
    },
    {
      "cell_type": "markdown",
      "metadata": {
        "id": "WEfWbXyY2n_5"
      },
      "source": [
        "# sintaxis del for en Python\n",
        "\n",
        "dos versiones de for \n",
        "1. range\n",
        "1. in iterator"
      ]
    },
    {
      "cell_type": "code",
      "metadata": {
        "id": "oFiS6t7U20sw"
      },
      "source": [
        "r = range(0,10,2)\n",
        "for x in r:\n",
        "  print(x)\n",
        "\n",
        "colores = ['rojo' , 'rosa' , 'azul' , 'fiusha']\n",
        "\n",
        "for indice in range(0,len(colores),1): #for(indice=0;indice<4;indice++)\n",
        "  #print(colores[indice]) # esta forma ayuda mas cuando se quieren modificar los elementos de la lista\n",
        "  colores[indice] = colores[indice].upper()\n",
        "\n",
        "#for sobre iterador\n",
        "\n",
        "for col in colores:\n",
        "  print(col)"
      ],
      "execution_count": null,
      "outputs": []
    },
    {
      "cell_type": "markdown",
      "metadata": {
        "id": "XUA5JWv3795M"
      },
      "source": [
        "# Generadores\n",
        "\n",
        "[0 for x in range(10) ]\n",
        "\n",
        "[valor for x in range(10) ]\n",
        "\n",
        "[\"hola\" for x in range(10) ]\n",
        "\n"
      ]
    },
    {
      "cell_type": "code",
      "metadata": {
        "id": "hIsJ_ww377kZ",
        "outputId": "55431b92-1f55-481b-d68e-0164ea5c7074",
        "colab": {
          "base_uri": "https://localhost:8080/",
          "height": 85
        }
      },
      "source": [
        "lista = [ 0 for x in range (10) ]\n",
        "lista2 = [ x for x in range (10) ]\n",
        "lista3 = [ \"Hola\" for x in range (10) ]\n",
        "print(lista)\n",
        "print(lista2)\n",
        "print(lista3)  \n",
        "#matriz\n",
        "ren = 5\n",
        "col = 3\n",
        "lista4 = [[0 for x in range(col)] for x in range (ren) ]\n",
        "print(lista4)"
      ],
      "execution_count": null,
      "outputs": [
        {
          "output_type": "stream",
          "text": [
            "[0, 0, 0, 0, 0, 0, 0, 0, 0, 0]\n",
            "[0, 1, 2, 3, 4, 5, 6, 7, 8, 9]\n",
            "['Hola', 'Hola', 'Hola', 'Hola', 'Hola', 'Hola', 'Hola', 'Hola', 'Hola', 'Hola']\n",
            "[[0, 0, 0], [0, 0, 0], [0, 0, 0], [0, 0, 0], [0, 0, 0]]\n"
          ],
          "name": "stdout"
        }
      ]
    },
    {
      "cell_type": "markdown",
      "metadata": {
        "id": "iCXybV0O_F8u"
      },
      "source": [
        "# POO en Python\n",
        "- clase\n",
        "- creacion de objetos\n",
        "- constructor\n",
        "- encapsulamiento\n",
        "- metodos\n",
        "- atributos\n",
        "- herencia"
      ]
    },
    {
      "cell_type": "code",
      "metadata": {
        "id": "_gnvkFaP_Yep",
        "outputId": "4561647b-911a-426f-9970-b198fe145279",
        "colab": {
          "base_uri": "https://localhost:8080/",
          "height": 34
        }
      },
      "source": [
        "class Computadora:\n",
        "  def __init__( self , m , p ): #Metodo constructor, a fuerzas se tiene que llamar asi\n",
        "   #print(\"creando el objeto\") aqui van los atributos del objeto\n",
        "   self.__marca= m #sel.__ es para decir que el atributo es privado\n",
        "   self.__procesador= p\n",
        "\n",
        "\n",
        "  def to_string( self ):  #Requiere siempre llevar el atributo self\n",
        "   # return \"Estado vacio\"  to_string te da el estado actual del objeto\n",
        "    return \"Marca:\"+self.__marca+\" Procesador:\"+self.__procesador\n",
        "mi_pc = Computadora(\"Toshiba\" , \"Intel i7\")\n",
        "mi_pc.__marca=\"HP\" #esto va en contra del encapsulamiento porque no se puieden modificar los valores d los atributos\n",
        "print(mi_pc.to_string())"
      ],
      "execution_count": null,
      "outputs": [
        {
          "output_type": "stream",
          "text": [
            "Marca:Toshiba Procesador:Intel i7\n"
          ],
          "name": "stdout"
        }
      ]
    }
  ]
}