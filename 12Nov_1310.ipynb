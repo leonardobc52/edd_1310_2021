{
  "nbformat": 4,
  "nbformat_minor": 0,
  "metadata": {
    "colab": {
      "name": "12Nov_1310.ipynb",
      "provenance": [],
      "authorship_tag": "ABX9TyPrP3X9OlnWgrC9cXi7CbSO",
      "include_colab_link": true
    },
    "kernelspec": {
      "name": "python3",
      "display_name": "Python 3"
    }
  },
  "cells": [
    {
      "cell_type": "markdown",
      "metadata": {
        "id": "view-in-github",
        "colab_type": "text"
      },
      "source": [
        "<a href=\"https://colab.research.google.com/github/leonardobc52/edd_1310_2021/blob/master/12Nov_1310.ipynb\" target=\"_parent\"><img src=\"https://colab.research.google.com/assets/colab-badge.svg\" alt=\"Open In Colab\"/></a>"
      ]
    },
    {
      "cell_type": "code",
      "metadata": {
        "id": "wCsvnQhPcUrh",
        "outputId": "86880f6e-b5fd-44b8-f91b-d5dc77ea55a8",
        "colab": {
          "base_uri": "https://localhost:8080/"
        }
      },
      "source": [
        "class Nodo:\n",
        "  def __init__(self , dato ):\n",
        "    self.dato = dato\n",
        "    self.siguiente = None\n",
        "\n",
        "#ejemplo 1 \n",
        "#un solo elemento\n",
        "a = Nodo ( 12 )\n",
        "print( a.dato )\n",
        "print( a.siguiente )\n",
        "\n",
        "#empieza a agregarse mas elementos\n",
        "\n",
        "# ejemplo 2\n",
        "a.siguiente = Nodo(20)\n",
        "\n",
        "#ejemplo 3\n",
        "a.siguiente.siguiente = Nodo(30)\n",
        "\n",
        "#ejemplo 4\n",
        "a.siguiente.siguiente.siguiente = Nodo(40)\n",
        "\n",
        "#ejemplo 5\n",
        "a.siguiente.siguiente.siguiente.siguiente = Nodo(50)\n",
        "\n",
        "#Ejemplo 6\n",
        "#Eiminando el nodo 30 \n",
        "a.siguiente.siguiente=a.siguiente.siguiente.siguiente\n",
        "\n",
        "\n",
        "\n",
        "#ejemplo 7\n",
        "a.siguiente.siguiente.dato = 45\n",
        "\n",
        "#Ejemplo 8 Insertar un dato entre dos\n",
        "\n",
        "tmp=a.siguiente.siguiente.siguiente #se crea una temporal, para noperder referencia\n",
        "a.siguiente.siguiente.siguiente=Nodo(48)#Creando nodo que se va insertar\n",
        "a.siguiente.siguiente.siguiente.siguiente=tmp\n",
        "\n",
        "#Recrorrido transversal\n",
        "curr_node = a\n",
        "print(curr_node.dato , \"-->\" , end =\"\")\n",
        "while( curr_node.siguiente != None ):\n",
        "  curr_node = curr_node.siguiente\n",
        "  print(curr_node.dato, \"-->\" , end=\"\")\n",
        "print(\"\")"
      ],
      "execution_count": null,
      "outputs": [
        {
          "output_type": "stream",
          "text": [
            "12\n",
            "None\n",
            "12 -->20 -->45 -->48 -->50 -->\n"
          ],
          "name": "stdout"
        }
      ]
    },
    {
      "cell_type": "code",
      "metadata": {
        "id": "s09HQNMavjxP",
        "outputId": "3df84cf1-2073-47b0-a86e-3b0692df8aa3",
        "colab": {
          "base_uri": "https://localhost:8080/"
        }
      },
      "source": [
        "# Reconstruccion\n",
        "class Nodo:\n",
        "    def __init__( self , dato  , sig=None ):\n",
        "        self.dato = dato\n",
        "        self.siguiente = sig\n",
        "\n",
        "# ejemplo 1\n",
        "a = Nodo( 10 )\n",
        "\n",
        "# ejemplo 2   RECONSTRUCCION\n",
        "a = Nodo(10 , Nodo(20) )\n",
        "\n",
        "a = Nodo(10 , Nodo(20, Nodo(30)) )\n",
        "\n",
        "a = Nodo(10 , Nodo(20, Nodo(30, Nodo(40, Nodo(50)))))\n",
        "\n",
        "curr_node = a\n",
        "print(curr_node.dato , \"-->\" , end=\"\")\n",
        "while( curr_node.siguiente != None ):\n",
        "    curr_node = curr_node.siguiente\n",
        "    print(curr_node.dato, \"-->\" , end=\"\")\n",
        "print(\"\")\n",
        "\n"
      ],
      "execution_count": null,
      "outputs": [
        {
          "output_type": "stream",
          "text": [
            "10 -->20 -->30 -->40 -->50 -->\n"
          ],
          "name": "stdout"
        }
      ]
    }
  ]
}