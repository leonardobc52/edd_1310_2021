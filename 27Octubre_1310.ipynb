{
  "nbformat": 4,
  "nbformat_minor": 0,
  "metadata": {
    "colab": {
      "name": "27Octubre_1310.ipynb",
      "provenance": [],
      "authorship_tag": "ABX9TyMB49icTlDPnInk1sWVF44h",
      "include_colab_link": true
    },
    "kernelspec": {
      "name": "python3",
      "display_name": "Python 3"
    }
  },
  "cells": [
    {
      "cell_type": "markdown",
      "metadata": {
        "id": "view-in-github",
        "colab_type": "text"
      },
      "source": [
        "<a href=\"https://colab.research.google.com/github/leonardobc52/edd_1310_2021/blob/master/27Octubre_1310.ipynb\" target=\"_parent\"><img src=\"https://colab.research.google.com/assets/colab-badge.svg\" alt=\"Open In Colab\"/></a>"
      ]
    },
    {
      "cell_type": "code",
      "metadata": {
        "id": "8UAUFIcd-bQk",
        "outputId": "e11752b7-844b-41e6-fbd3-3a64f59e2e56",
        "colab": {
          "base_uri": "https://localhost:8080/",
          "height": 69
        }
      },
      "source": [
        "class Computadora:\n",
        "    def __init__( self , m , p):\n",
        "        self.__marca = m\n",
        "        self.__procesador = p\n",
        "\n",
        "    def to_string( self ):\n",
        "        return \"Marca:\"+self.__marca+\" Procesador:\"+self.__procesador\n",
        "    \n",
        "    def set_marca( self , m):\n",
        "      self.__marca = m\n",
        "\n",
        "    def get_marca( self ):\n",
        "      return self.__marca\n",
        "\n",
        "    def set__procesador( self , p):\n",
        "      self.__procesador = p\n",
        "\n",
        "    def get_procesador( self ):\n",
        "      return self.__procesador\n",
        "\n",
        "mi_pc = Computadora(\"Toshiba\",\"Intel i7\")\n",
        "print(mi_pc.to_string())\n",
        "mi_pc.__marca=\"HP \" # intentando cambiar le valor privado, pero no se puede \n",
        "mi_pc.set_marca(\"HP co.\") #Asi se puede cambiar un valor privado\n",
        "print(mi_pc.to_string())\n",
        "#print(mi_pc._procesador) Esta encapsulado bien y por eso marca error al ejecutar\n",
        "print( mi_pc.get_procesador() )"
      ],
      "execution_count": 5,
      "outputs": [
        {
          "output_type": "stream",
          "text": [
            "Marca:Toshiba Procesador:Intel i7\n",
            "Marca:HP co. Procesador:Intel i7\n",
            "Intel i7\n"
          ],
          "name": "stdout"
        }
      ]
    },
    {
      "cell_type": "markdown",
      "metadata": {
        "id": "UYoeQ-QeEIgG"
      },
      "source": [
        "# Encapsulamiento python 3\n",
        "## Tradicional tipo Java\n",
        "     void setAtributo (val)\n",
        "     tipo getAtributo ( )\n",
        "## Estilo python\n",
        "UTILIZANDO DECORADORES\n",
        "- @property\n",
        "- @atributo.setter"
      ]
    },
    {
      "cell_type": "code",
      "metadata": {
        "id": "eiqFaAOVEqA9",
        "outputId": "a0467912-746e-4459-e8fa-94ad12c2dd9a",
        "colab": {
          "base_uri": "https://localhost:8080/",
          "height": 104
        }
      },
      "source": [
        "class Computadora:\n",
        "  def __init__( self , m , p ):\n",
        "    self.marca = m # se manda a llamar el depurador @property\n",
        "    self.procesador = p #aqui igual\n",
        "\n",
        "  @property # Con este metodo les dices a los siguientes atributos se van a comportar de una forma, se vuelve privado y s usa como el metodo get\n",
        "  def marca ( self ):\n",
        "    return self.__marca\n",
        "\n",
        "  @marca.setter  # Con esto se indic que son un setter\n",
        "  def marca( self , m):\n",
        "    print(\"En el setter de marca\")\n",
        "    self.__marca = m\n",
        "\n",
        "  @property\n",
        "  def procesador ( self ):\n",
        "    return self.__procesador\n",
        "\n",
        "  @procesador.setter\n",
        "  def procesador( self , p):\n",
        "    print(\"En el metodo setter del procesador\")\n",
        "    self.__procesador = p\n",
        "\n",
        "  def to_string ( self ):\n",
        "    return \"Marca:\" + self.marca + \" Procesador:\" + self.procesador\n",
        "\n",
        "mi_pc2= Computadora(\"Mac Book pro\" , \"Intel i7\")\n",
        "print(mi_pc2.to_string()) \n",
        "mi_pc2.marca = \"Dell\"\n",
        "print( mi_pc2.to_string())"
      ],
      "execution_count": 15,
      "outputs": [
        {
          "output_type": "stream",
          "text": [
            "En el setter de marca\n",
            "En el metodo set del procesador\n",
            "Marca:Mac Book pro Procesador:Intel i7\n",
            "En el setter de marca\n",
            "Marca:Dell Procesador:Intel i7\n"
          ],
          "name": "stdout"
        }
      ]
    },
    {
      "cell_type": "code",
      "metadata": {
        "id": "ubWPX-IqQmMo",
        "outputId": "d571f2bd-80c0-4337-de0d-b3bbbb9f0d76",
        "colab": {
          "base_uri": "https://localhost:8080/",
          "height": 86
        }
      },
      "source": [
        "# herencia: pasando la clase base a la declaracion\n",
        "class ServidorEmpresarial( Computadora ):\n",
        "  def __init__( self ):\n",
        "    print(\"Hola servidor\")\n",
        "\n",
        "server = ServidorEmpresarial( )\n",
        "server.marca = \"Sun Micro Systems\"\n",
        "server.procesador = \"Intel i7\"\n",
        "print(server.to_string())"
      ],
      "execution_count": 19,
      "outputs": [
        {
          "output_type": "stream",
          "text": [
            "Hola servidor\n",
            "En el setter de marca\n",
            "En el metodo set del procesador\n",
            "Marca:Sun Micro Systems Procesador:Intel i7\n"
          ],
          "name": "stdout"
        }
      ]
    }
  ]
}