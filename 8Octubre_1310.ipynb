{
  "nbformat": 4,
  "nbformat_minor": 0,
  "metadata": {
    "colab": {
      "name": "8Octubre_1310.ipynb",
      "provenance": [],
      "authorship_tag": "ABX9TyPZkiYz8sHjqW2BONTrBssQ",
      "include_colab_link": true
    },
    "kernelspec": {
      "name": "python3",
      "display_name": "Python 3"
    }
  },
  "cells": [
    {
      "cell_type": "markdown",
      "metadata": {
        "id": "view-in-github",
        "colab_type": "text"
      },
      "source": [
        "<a href=\"https://colab.research.google.com/github/leonardobc52/edd_1310_2021/blob/master/8Octubre_1310.ipynb\" target=\"_parent\"><img src=\"https://colab.research.google.com/assets/colab-badge.svg\" alt=\"Open In Colab\"/></a>"
      ]
    },
    {
      "cell_type": "code",
      "metadata": {
        "id": "Gt944d5O9pdU",
        "outputId": "b1609777-ba22-4d9b-a316-4733b822e441",
        "colab": {
          "base_uri": "https://localhost:8080/",
          "height": 129
        }
      },
      "source": [
        "# Listas dentro de listas\n",
        "monitores =[[\"Samsung\",\"17.3 \\\"\",1024],[\"BenQ\",\"40\\\"\",2048]]\n",
        "procesadores = [[\"Intel\",\"i7\",3.4],[\"AMD\",\"razzer\",3.3],[\"Intel\",\"i3\",3.1]]\n",
        "memorias = [[\"Kingston\", \"8GB\",\"DDR4\"],[\"Kingston\", \"16GB\",\"DDR3\"],[\"ADATA\", \"32GB\",\"DDR4\"]]\n",
        "\n",
        "componentes = [monitores,procesadores,memorias]\n",
        "\n",
        "print(componentes)\n",
        "print(componentes[1])\n",
        "print(componentes[2][1][1])\n",
        "print(int(componentes[0][1][2])*2)\n",
        "print(componentes[1][1][1][1:4:1])\n",
        "print(componentes[2][2][0].lower())\n",
        "componentes[2].append([\"Patito\", \"32 GB\", \"DDR4\"])\n",
        "print(componentes[2]"
      ],
      "execution_count": 9,
      "outputs": [
        {
          "output_type": "error",
          "ename": "SyntaxError",
          "evalue": "ignored",
          "traceback": [
            "\u001b[0;36m  File \u001b[0;32m\"<ipython-input-9-1a70ac77f0a6>\"\u001b[0;36m, line \u001b[0;32m15\u001b[0m\n\u001b[0;31m    print(componentes[2]\u001b[0m\n\u001b[0m                        ^\u001b[0m\n\u001b[0;31mSyntaxError\u001b[0m\u001b[0;31m:\u001b[0m unexpected EOF while parsing\n"
          ]
        }
      ]
    },
    {
      "cell_type": "code",
      "metadata": {
        "id": "EzGjIf5495c2",
        "outputId": "eaa9dfa4-7894-4af7-ea72-7d9514d0c85f",
        "colab": {
          "base_uri": "https://localhost:8080/",
          "height": 204
        }
      },
      "source": [
        "# Copiar listas\n",
        "# extender listas\n",
        "\n",
        "frutas = [\"manzana\" , \"pera\"]\n",
        "otras_frutas = [\"aguacate\" , \"sandia\"]\n",
        "\n",
        "# \"+\" sobre listas esto si ayuda a juntar las listas como elemntos individuales\n",
        "frutas = frutas + otras_frutas \n",
        "print(frutas)\n",
        "\n",
        "# funcion extend() lo que hace el append es que mete la lista como lista y no como elemento individual\n",
        "frutas.extend(otras_frutas)\n",
        "print(frutas)\n",
        "\n",
        "frutas.append(otras_frutas)\n",
        "print(frutas)\n",
        "\n",
        "#copiar\n",
        "\n",
        "colores = [\"azul\" , \"rojo\" , \"verde\" , \"violeta\"]\n",
        "otros_colores = colores #El igualarlas variables hace que al modficiar la copia se modifica en original\n",
        "print(colores)\n",
        "print(otros_colores)\n",
        "otros_colores.append(\"Rosa\") \n",
        "print(otros_colores)\n",
        "print(colores)\n",
        "\n",
        "una_mas = colores.copy() #Copy: Ayuda a que al modificar la copia no modifica el original\n",
        "print(una_mas)\n",
        "una_mas.append(\"gris\")\n",
        "print(una_mas)\n",
        "print(colores)\n",
        "\n",
        "# unpaking de listas\n",
        "\n",
        "alumno = [\"Jesus\" , \"Perez\" , \"Herrera\" , \"22\" , \"ICO\" , 10.0]\n",
        "#nombre= alumno[0]\n",
        "#paterno = alumno[1]\n",
        "#etc es muy tardado sacarlo 1 a 1 \n",
        "\n",
        "#Para el unpaking tienes que declarar la misma cntidad de varibles que tiene de elementos la lista\n",
        "nombre,paterno,materno,edad,carrera,promedio = alumno \n",
        "print(f\"Alumno:{nombre} Carrera:{carrera} Promedio={promedio}\")"
      ],
      "execution_count": 23,
      "outputs": [
        {
          "output_type": "stream",
          "text": [
            "['manzana', 'pera', 'aguacate', 'sandia']\n",
            "['manzana', 'pera', 'aguacate', 'sandia', 'aguacate', 'sandia']\n",
            "['manzana', 'pera', 'aguacate', 'sandia', 'aguacate', 'sandia', ['aguacate', 'sandia']]\n",
            "['azul', 'rojo', 'verde', 'violeta']\n",
            "['azul', 'rojo', 'verde', 'violeta']\n",
            "['azul', 'rojo', 'verde', 'violeta', 'Rosa']\n",
            "['azul', 'rojo', 'verde', 'violeta', 'Rosa']\n",
            "['azul', 'rojo', 'verde', 'violeta', 'Rosa']\n",
            "['azul', 'rojo', 'verde', 'violeta', 'Rosa', 'gris']\n",
            "['azul', 'rojo', 'verde', 'violeta', 'Rosa']\n",
            "Alumno:Jesus Carrera:ICO Promedio=10.0\n"
          ],
          "name": "stdout"
        }
      ]
    },
    {
      "cell_type": "markdown",
      "metadata": {
        "id": "cdUs8uuwR3Bm"
      },
      "source": [
        "# Tuplas\n",
        "- Se declara con ( )\n",
        "- Selector con []\n",
        "- NO son mutables\n",
        "\n",
        "\n",
        "conjunto de datos que estan indexados, tiene el mismo comportamiento de una lista, pero esta no se puede modificar, sirve para declarar valores constantes"
      ]
    },
    {
      "cell_type": "code",
      "metadata": {
        "id": "2tUU-QGPSO5j",
        "outputId": "7f536847-64a3-4114-d582-1c06f23a255b",
        "colab": {
          "base_uri": "https://localhost:8080/",
          "height": 68
        }
      },
      "source": [
        "precios = (99.9 , 49.9 , 12.45 , 23.3 , 33.44 , 55.66)\n",
        "print(precios[1])\n",
        "#precios[1] = 50.0 #No se puede modificar\n",
        "print(precios)\n",
        "print(precios[2:4])"
      ],
      "execution_count": 31,
      "outputs": [
        {
          "output_type": "stream",
          "text": [
            "49.9\n",
            "(99.9, 49.9, 12.45, 23.3, 33.44, 55.66)\n",
            "(12.45, 23.3)\n"
          ],
          "name": "stdout"
        }
      ]
    },
    {
      "cell_type": "markdown",
      "metadata": {
        "id": "fv_BwiKmSMdd"
      },
      "source": [
        "# Diccionarios\n",
        "- Son mutables\n",
        "- Se declaran con {}\n",
        "- Conjunto de pares llave: valor\n",
        "- Equivalente a los Objetos JSON de JavaScript"
      ]
    },
    {
      "cell_type": "code",
      "metadata": {
        "id": "Sg81OocMT1ac",
        "outputId": "f6726757-8e30-41b0-a335-a3f116501ce5",
        "colab": {
          "base_uri": "https://localhost:8080/",
          "height": 139
        }
      },
      "source": [
        "cliente = {} #Ya con esto se declaro el objeto de tipo diccionario\n",
        "print(cliente)    #Notacion: {\"Dato\" : Valor , \"Dato\" : Valor}\n",
        "alumno = {   \"num_cta\"  : 3030303003 }\n",
        "print(alumno)\n",
        "\n",
        "alumno = {\"num_cta\" : 30303303 ,\n",
        "          \"Carrera\" : \"ICO\" ,\n",
        "          \"Promedio\" : 9.8 ,\n",
        "          \"Materias\" : [\"EDD\" , \"CyP\" , \"Calidad\" , \"Emprendimiento\"] ,\n",
        "          \"Direccion\" : {\n",
        "              \"Calle\": \"Rancho seco\" ,\n",
        "              \"Numero\" : 23 ,\n",
        "              \"Delegacion\" : \"Neza\" ,\n",
        "              \"Estado\" : {\n",
        "                \"ID\" : 15 ,\n",
        "                \"Nombre\" : \"Estado de Mexico\" ,\n",
        "                \"Nombre_Corto\" : \"EdoMex\"\n",
        "                          } ,\n",
        "              \"CP\" : 57170\n",
        "                         }\n",
        "          }\n",
        "print(alumno)\n",
        "print(alumno['Materias'])\n",
        "print(alumno['Promedio'])\n",
        "print(alumno['Direccion']['Estado']['Nombre_Corto'])"
      ],
      "execution_count": 43,
      "outputs": [
        {
          "output_type": "stream",
          "text": [
            "{}\n",
            "{'num_cta': 3030303003}\n",
            "{'num_cta': 30303303, 'Carrera': 'ICO', 'Promedio': 9.8, 'Materias': ['EDD', 'CyP', 'Calidad', 'Emprendimiento'], 'Direccion': {'Calle': 'Rancho seco', 'Numero': 23, 'Delegacion': 'Neza', 'Estado': {'ID': 15, 'Nombre': 'Estado de Mexico', 'Nombre_Corto': 'EdoMex'}, 'CP': 57170}}\n",
            "['EDD', 'CyP', 'Calidad', 'Emprendimiento']\n",
            "9.8\n",
            "EdoMex\n"
          ],
          "name": "stdout"
        }
      ]
    }
  ]
}