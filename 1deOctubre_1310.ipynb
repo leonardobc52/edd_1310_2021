{
  "nbformat": 4,
  "nbformat_minor": 0,
  "metadata": {
    "colab": {
      "name": "1deOctubre_1310.ipynb",
      "provenance": [],
      "authorship_tag": "ABX9TyPmYXuOx3SkF4nK81C2yOe8",
      "include_colab_link": true
    },
    "kernelspec": {
      "name": "python3",
      "display_name": "Python 3"
    }
  },
  "cells": [
    {
      "cell_type": "markdown",
      "metadata": {
        "id": "view-in-github",
        "colab_type": "text"
      },
      "source": [
        "<a href=\"https://colab.research.google.com/github/leonardobc52/edd_1310_2021/blob/master/1deOctubre_1310.ipynb\" target=\"_parent\"><img src=\"https://colab.research.google.com/assets/colab-badge.svg\" alt=\"Open In Colab\"/></a>"
      ]
    },
    {
      "cell_type": "markdown",
      "metadata": {
        "id": "O-4E5N8l7w57"
      },
      "source": [
        "##Intro Python 3\n",
        "### Variables\n",
        "tipo dinamico\n",
        "escuela = \"FES Aragon\""
      ]
    },
    {
      "cell_type": "code",
      "metadata": {
        "id": "vADwWW6X7ika",
        "outputId": "0e1d6d34-b985-4dd7-d722-e4e377b882c5",
        "colab": {
          "base_uri": "https://localhost:8080/",
          "height": 187
        }
      },
      "source": [
        "escuela = \"FES Aragon\"\n",
        "print (escuela)\n",
        "print('--------')\n",
        "edad = 13\n",
        "estatura = 1.70\n",
        "funador = True\n",
        "frase = \"\"\"\n",
        "Esta es \n",
        "una \n",
        "frase \n",
        "de multiples lineas\n",
        "y tambien es \n",
        "un tipo de dato\n",
        "\"\"\"\n",
        "print (frase)\n",
        "nombre = 'jose'\n",
        "nombre_completo = \"jose sosa cardenas\"\n",
        "\n",
        "\n"
      ],
      "execution_count": 34,
      "outputs": [
        {
          "output_type": "stream",
          "text": [
            "FES Aragon\n",
            "--------\n",
            "\n",
            "Esta es \n",
            "una \n",
            "frase \n",
            "de multiples lineas\n",
            "y tambien es \n",
            "un tipo de dato\n",
            "\n"
          ],
          "name": "stdout"
        }
      ]
    },
    {
      "cell_type": "markdown",
      "metadata": {
        "id": "r4uQsyIh90Tt"
      },
      "source": [
        "# Print\n",
        "con comas ,\n",
        "\n",
        "con signo mas +\n",
        "\n",
        "con formato ()\n",
        "\n",
        "con el operador f\""
      ]
    },
    {
      "cell_type": "code",
      "metadata": {
        "id": "5cPxeQD7-CUs",
        "outputId": "bc206d90-4bd9-4c86-8a00-8a25f6a25906",
        "colab": {
          "base_uri": "https://localhost:8080/",
          "height": 34
        }
      },
      "source": [
        "# la , agarra diferentes variables\n",
        "print (nombre,edad) "
      ],
      "execution_count": 35,
      "outputs": [
        {
          "output_type": "stream",
          "text": [
            "jose 13\n"
          ],
          "name": "stdout"
        }
      ]
    },
    {
      "cell_type": "code",
      "metadata": {
        "id": "jYVvXbFv-_NO",
        "outputId": "49a309cb-1b3e-48f3-f18e-cafef9318707",
        "colab": {
          "base_uri": "https://localhost:8080/",
          "height": 51
        }
      },
      "source": [
        "# + concatena pero tiene que ser con \"str\" para que junte tipos de variable diferentes\n",
        "print(nombre + str(edad))\n",
        "#Si ambos son string no se necesita el \"srt\"\n",
        "print(nombre + nombre_completo) #Snakecase: Variables con el guion bajo se recomienda para python\n",
        " \n",
        " "
      ],
      "execution_count": 36,
      "outputs": [
        {
          "output_type": "stream",
          "text": [
            "jose13\n",
            "josejose sosa cardenas\n"
          ],
          "name": "stdout"
        }
      ]
    },
    {
      "cell_type": "code",
      "metadata": {
        "id": "juZlYlCMAP6y",
        "outputId": "c9713afc-5976-47f4-e9e4-79e0e8a7c8e9",
        "colab": {
          "base_uri": "https://localhost:8080/",
          "height": 68
        }
      },
      "source": [
        "#Con coframto -> Su nombre es Jose y su edad es de 13 años\n",
        "#forma dificil\n",
        "print(\"Su nombre es\",nombre,\"y su edad es de\",edad,\"años\") \n",
        "#forma cool en donde se pueden cambiar los indices\n",
        "print(\"Su nombre es {0} y su edad es de {1} años.\".format(nombre,edad) )\n",
        "print(\"Su nombre es {1} y su edad es de {0} años.\".format(nombre,edad) )"
      ],
      "execution_count": 37,
      "outputs": [
        {
          "output_type": "stream",
          "text": [
            "Su nombre es jose y su edad es de 13 años\n",
            "Su nombre es jose y su edad es de 13 años.\n",
            "Su nombre es 13 y su edad es de jose años.\n"
          ],
          "name": "stdout"
        }
      ]
    },
    {
      "cell_type": "code",
      "metadata": {
        "id": "s3GhchVPBv4V",
        "outputId": "3fd63fde-ce94-448e-8c3e-b256b7a157b9",
        "colab": {
          "base_uri": "https://localhost:8080/",
          "height": 34
        }
      },
      "source": [
        "# con formato con el operador f\"\" forma para usar todo el semestre\n",
        "print(f\"Su nombre es {nombre} y su edad es de {edad} años.\")"
      ],
      "execution_count": 38,
      "outputs": [
        {
          "output_type": "stream",
          "text": [
            "Su nombre es jose y su edad es de 13 años.\n"
          ],
          "name": "stdout"
        }
      ]
    },
    {
      "cell_type": "markdown",
      "metadata": {
        "id": "eVemC88bCN7F"
      },
      "source": [
        "# Carácter de escape\n",
        "\n",
        "\\n salto de linea\n",
        "\n",
        "\\t tabulador\n",
        "\n",
        "\\a beep\n",
        "\n",
        "\\\\\" imprimir comillas\n",
        "\n",
        "\n",
        "\\\\' imprimir comilla simple\n"
      ]
    },
    {
      "cell_type": "code",
      "metadata": {
        "id": "rK1x-zveDIZi",
        "outputId": "71bd075c-ba22-4faf-c486-063020bafece",
        "colab": {
          "base_uri": "https://localhost:8080/",
          "height": 51
        }
      },
      "source": [
        "\"\"\"\n",
        "esto es \n",
        "un comenterio\n",
        "de multiple\n",
        "linea\n",
        "\"\"\"\n",
        "print(f\"\\tMi nombre es\\n\\t\\t {nombre}\")"
      ],
      "execution_count": 39,
      "outputs": [
        {
          "output_type": "stream",
          "text": [
            "\tMi nombre es\n",
            "\t\t jose\n"
          ],
          "name": "stdout"
        }
      ]
    },
    {
      "cell_type": "markdown",
      "metadata": {
        "id": "KffL7QxcDrhV"
      },
      "source": [
        "# Ayuda de tipos de datos en python\n",
        "dir() metodos solamente\n",
        "\n",
        "help() detalles"
      ]
    },
    {
      "cell_type": "code",
      "metadata": {
        "id": "kKIIma5YEOKg"
      },
      "source": [
        "\"\"\"str, int. float, bool... list, dcit, set\n",
        "Capitaize: primera letra en mayuscula\n",
        "Zfiil: llenar ciertos campos\n",
        "isalnum: ¿Cotiene valores numericos el string?\n",
        "upper: todas las palabras en mayuscular\n",
        "title: la primera letra de cada palabra en mayusculas\n",
        "Todos los que tienen _ son privados\n",
        "no se puede llamar a dir y help al mismo tiempo , se tiene que hacer en celdas diferentes\n",
        "para quitar lo que molesta de informacion, clik derecho a la celda y borrar resultados\n",
        "\"\"\"\n",
        "dir(str)"
      ],
      "execution_count": null,
      "outputs": []
    },
    {
      "cell_type": "code",
      "metadata": {
        "id": "7Vqd2SRqFNL1",
        "outputId": "ab3c6d53-426c-4f8c-ff1e-18b3815b0814",
        "colab": {
          "base_uri": "https://localhost:8080/",
          "height": 51
        }
      },
      "source": [
        "print(nombre_completo.capitalize() )\n",
        "print(nombre_completo.upper() , end=\"-----\")\n",
        "print(nombre_completo.title() )"
      ],
      "execution_count": 43,
      "outputs": [
        {
          "output_type": "stream",
          "text": [
            "Jose sosa cardenas\n",
            "JOSE SOSA CARDENAS-----Jose Sosa Cardenas\n"
          ],
          "name": "stdout"
        }
      ]
    },
    {
      "cell_type": "code",
      "metadata": {
        "id": "6lEqAn0lGD1M"
      },
      "source": [
        "help(print)"
      ],
      "execution_count": null,
      "outputs": []
    },
    {
      "cell_type": "markdown",
      "metadata": {
        "id": "O8xbEoYiGvUN"
      },
      "source": [
        "# Clase String\n",
        "Es manejada como un arreglo (c o java) o lista (python)\n",
        "\n",
        "telefono = \"Huawei mate 30 pro\" se guarda un arreglo de 18 caracteres \n"
      ]
    },
    {
      "cell_type": "code",
      "metadata": {
        "id": "pqLFq8IJGtLE",
        "outputId": "93df1567-0c01-44b8-cc05-f8a477a9d1d6",
        "colab": {
          "base_uri": "https://localhost:8080/",
          "height": 51
        }
      },
      "source": [
        "telefono = \"Huawei mate 30 pro\"\n",
        "print( telefono[0])\n",
        "print( telefono[5]) "
      ],
      "execution_count": 45,
      "outputs": [
        {
          "output_type": "stream",
          "text": [
            "H\n",
            "i\n"
          ],
          "name": "stdout"
        }
      ]
    },
    {
      "cell_type": "markdown",
      "metadata": {
        "id": "vto7ILiqIK8s"
      },
      "source": [
        "#Slicing (rebanado)\n",
        "[ini : stop : incremento]\n",
        "Nota: el stop no lo inclye, termoina en el valor anterior"
      ]
    },
    {
      "cell_type": "code",
      "metadata": {
        "id": "wmVwAivpIIgk",
        "outputId": "b8903c17-326c-4391-9edc-3f16309e3810",
        "colab": {
          "base_uri": "https://localhost:8080/",
          "height": 102
        }
      },
      "source": [
        "print( telefono[7:11:1])\n",
        "\"\"\"\n",
        "El inico y el incremento son opcionales porque siempre empieza en 0,\n",
        "solo se pone cuando no empieza dese el inicio.\n",
        "El valor por defecto de stop es len(str) (el tamaño de toda la cadena)\n",
        "\"\"\"\n",
        "print( telefono[:11:])\n",
        "print( telefono[::])\n",
        "#incremento negativo te pone todo al reves\n",
        "print( telefono[::-1])\n",
        "#tambien se puede tomar la ultima palabra\n",
        "print( telefono[-3::1])\n"
      ],
      "execution_count": 51,
      "outputs": [
        {
          "output_type": "stream",
          "text": [
            "mate\n",
            "Huawei mate\n",
            "Huawei mate 30 pro\n",
            "orp 03 etam iewauH\n",
            "pro\n"
          ],
          "name": "stdout"
        }
      ]
    },
    {
      "cell_type": "markdown",
      "metadata": {
        "id": "K7q6vKigNMcG"
      },
      "source": [
        "# Metodos de String (str)\n",
        "Existen metodos muy utiles en esta clase "
      ]
    },
    {
      "cell_type": "code",
      "metadata": {
        "id": "zxhNxFLWNbAc",
        "outputId": "c62e46ab-ca14-4531-d24e-4e4da7e1542c",
        "colab": {
          "base_uri": "https://localhost:8080/",
          "height": 340
        }
      },
      "source": [
        "facultad = \"    facultad de estudios superiores aragon     \"\n",
        "#Count: cuenta cuantos elementos hay de lo que pedimos\n",
        "print(facultad)\n",
        "print(facultad.count(\"f\" ))\n",
        "print(facultad.count(\"s\" ))\n",
        "print(facultad.count(\"u\" ))\n",
        "print(facultad.count(\"l\" ))\n",
        "#Find: encunetra en que posicion esta el caracter\n",
        "print(facultad.find(\"f\" ))\n",
        "#Index: Indice de la primera coincidencia\n",
        "#Strip: remueve los espacios en blanco al principo y al final\n",
        "print(facultad.strip())\n",
        "#Len: dice el tamaño del string\n",
        "#Split: Corta la cadena en donde se pide\n",
        "tamaño=len(facultad)\n",
        "print(len(facultad))\n",
        "print(f\"tamaño de la cadena es {tamaño} caracteres\")\n",
        "print(facultad)\n",
        "print(facultad.strip().split(\" \"))\n",
        "\n",
        "print(\"-------------------\")\n",
        "#Copiar cadenas\n",
        "otra_cadena = facultad\n",
        "print(otra_cadena)\n",
        "otra_cadena = \"FES Aragon\"\n",
        "print(facultad)\n",
        "print(otra_cadena)\n",
        "\n",
        "#Copiar listas\n",
        "colores = [\"rojo\",\"verde\"]\n",
        "otra=colores.copy()\n",
        "print(colores)\n",
        "print(otra)\n",
        "otra.append(\"rosa\")\n",
        "print(colores)\n",
        "print(otra)"
      ],
      "execution_count": 75,
      "outputs": [
        {
          "output_type": "stream",
          "text": [
            "    facultad de estudios superiores aragon     \n",
            "1\n",
            "4\n",
            "3\n",
            "1\n",
            "4\n",
            "facultad de estudios superiores aragon\n",
            "47\n",
            "tamaño de la cadena es 47 caracteres\n",
            "    facultad de estudios superiores aragon     \n",
            "['facultad', 'de', 'estudios', 'superiores', 'aragon']\n",
            "-------------------\n",
            "    facultad de estudios superiores aragon     \n",
            "    facultad de estudios superiores aragon     \n",
            "FES Aragon\n",
            "['rojo', 'verde']\n",
            "['rojo', 'verde']\n",
            "['rojo', 'verde']\n",
            "['rojo', 'verde', 'rosa']\n"
          ],
          "name": "stdout"
        }
      ]
    }
  ]
}