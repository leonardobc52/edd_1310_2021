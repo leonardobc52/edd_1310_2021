{
  "nbformat": 4,
  "nbformat_minor": 0,
  "metadata": {
    "colab": {
      "name": "15Octubre_1310.ipynb",
      "provenance": [],
      "authorship_tag": "ABX9TyPPBLTZes3vEB/DN77sXjQ2",
      "include_colab_link": true
    },
    "kernelspec": {
      "name": "python3",
      "display_name": "Python 3"
    }
  },
  "cells": [
    {
      "cell_type": "markdown",
      "metadata": {
        "id": "view-in-github",
        "colab_type": "text"
      },
      "source": [
        "<a href=\"https://colab.research.google.com/github/leonardobc52/edd_1310_2021/blob/master/15Octubre_1310.ipynb\" target=\"_parent\"><img src=\"https://colab.research.google.com/assets/colab-badge.svg\" alt=\"Open In Colab\"/></a>"
      ]
    },
    {
      "cell_type": "markdown",
      "metadata": {
        "id": "1KmhS9h-BzrC"
      },
      "source": [
        "# Modulos\n",
        "Son recursos reutilizables que contienen varias funciones que pueden ser importadas a tu codigo\n",
        "Funcionan los import igual que los de Java y los include en C"
      ]
    },
    {
      "cell_type": "code",
      "metadata": {
        "id": "A-dIYtOp-16g",
        "outputId": "3485485b-2759-4d6a-ff25-0d8f8955bafb",
        "colab": {
          "base_uri": "https://localhost:8080/",
          "height": 51
        }
      },
      "source": [
        "\"\"\"\"\n",
        "import mi_modulo\n",
        "\n",
        "x = mi_modulo.sumar( 4 , 7)\n",
        "\n",
        "print( x )\n",
        "\n",
        "print( mi_modulo.multiplicar(3,5))\n",
        "\"\"\""
      ],
      "execution_count": 2,
      "outputs": [
        {
          "output_type": "stream",
          "text": [
            "11\n",
            "15\n"
          ],
          "name": "stdout"
        }
      ]
    },
    {
      "cell_type": "code",
      "metadata": {
        "id": "jzr77o9qKRZ0",
        "outputId": "916975df-3171-473c-f58a-2800671c8707",
        "colab": {
          "base_uri": "https://localhost:8080/",
          "height": 34
        }
      },
      "source": [
        "from mi_modulo import sumar as sm #Facilita la escritura y se puede seleccionar/importar lo que se desee\n",
        " #Tambien a esta forma se le puede poner un alias\n",
        "print(sm(4,7))\n"
      ],
      "execution_count": 6,
      "outputs": [
        {
          "output_type": "stream",
          "text": [
            "11\n"
          ],
          "name": "stdout"
        }
      ]
    },
    {
      "cell_type": "code",
      "metadata": {
        "id": "WQts67GTL8ej",
        "outputId": "9f6e858a-b2b2-4283-853e-2e744b68bd87",
        "colab": {
          "base_uri": "https://localhost:8080/",
          "height": 51
        }
      },
      "source": [
        "from mi_modulo import sumar, dividir\n",
        "\n",
        "print(sumar(5,5))\n",
        "print(dividir(14,7))"
      ],
      "execution_count": 8,
      "outputs": [
        {
          "output_type": "stream",
          "text": [
            "10\n",
            "2.0\n"
          ],
          "name": "stdout"
        }
      ]
    },
    {
      "cell_type": "code",
      "metadata": {
        "id": "1dNSTU3ELPUj",
        "outputId": "40c7bffb-b186-487d-907c-a783254c61ed",
        "colab": {
          "base_uri": "https://localhost:8080/",
          "height": 34
        }
      },
      "source": [
        "import mi_modulo as patito #El ponerle un alias facilita tambien la escitura\n",
        "\n",
        "print(patito.sumar(4,6))"
      ],
      "execution_count": 5,
      "outputs": [
        {
          "output_type": "stream",
          "text": [
            "10\n"
          ],
          "name": "stdout"
        }
      ]
    },
    {
      "cell_type": "code",
      "metadata": {
        "id": "dydBRrB9N_Em",
        "outputId": "e0ff08d2-f7b1-44df-c0ad-6f97e889b7e9",
        "colab": {
          "base_uri": "https://localhost:8080/",
          "height": 197
        }
      },
      "source": [
        "\n",
        "#package administation: ayuda a administrar los paquetes de python\n",
        " # Biblioteca numpy: Ayuda a manipular arreglos de datos\n"
      ],
      "execution_count": 2,
      "outputs": [
        {
          "output_type": "error",
          "ename": "NameError",
          "evalue": "ignored",
          "traceback": [
            "\u001b[0;31m---------------------------------------------------------------------------\u001b[0m",
            "\u001b[0;31mNameError\u001b[0m                                 Traceback (most recent call last)",
            "\u001b[0;32m<ipython-input-2-fe17621fcada>\u001b[0m in \u001b[0;36m<module>\u001b[0;34m()\u001b[0m\n\u001b[0;32m----> 1\u001b[0;31m \u001b[0mpyp\u001b[0m\u001b[0;34m\u001b[0m\u001b[0;34m\u001b[0m\u001b[0m\n\u001b[0m\u001b[1;32m      2\u001b[0m \u001b[0;31m#package administation: ayuda a administrar los paquetes de python\u001b[0m\u001b[0;34m\u001b[0m\u001b[0;34m\u001b[0m\u001b[0;34m\u001b[0m\u001b[0m\n\u001b[1;32m      3\u001b[0m \u001b[0;34m\u001b[0m\u001b[0m\n",
            "\u001b[0;31mNameError\u001b[0m: name 'pyp' is not defined"
          ]
        }
      ]
    },
    {
      "cell_type": "markdown",
      "metadata": {
        "id": "JqgNWfdVSUjM"
      },
      "source": [
        "# archivos \n",
        "- open (str , str)\n",
        "       1. Nombre o ruta del archivo\n",
        "       1. Dos caracteres\n",
        "          - modo de apertura del archivo (r,w,a appen si y solo si el archivo existe, x append si y solo si el archivo no existe)\n",
        "          -Formato del archivo (t o b)"
      ]
    },
    {
      "cell_type": "code",
      "metadata": {
        "id": "5hoVLMhsSYIq"
      },
      "source": [
        "archivo = open('saludo.txt','wt') # Las comillas simples se utilizan para palabras sin espacios\n",
        "archivo.write(\"Hola mundo \\n ola ke aze\") #Las comillas dobles se utilizan para palabras con espacios\n",
        "archivo.close()"
      ],
      "execution_count": 3,
      "outputs": []
    },
    {
      "cell_type": "code",
      "metadata": {
        "id": "eMRwvQZiUctB",
        "outputId": "66a29011-a358-4967-d909-1bf7a7026a50",
        "colab": {
          "base_uri": "https://localhost:8080/",
          "height": 136
        }
      },
      "source": [
        "otro = open('./sample_data/anscombe.json', 'rt')\n",
        "datos = otro.read() #read: lee todo el archivo y lo regresa como string\n",
        "#print(datos)\n",
        "otro.close()\n",
        "\n",
        "arch = open('frutas.txt','rt') #readine: lee linea por linea separada y las regresa\n",
        "print(arch.readline())\n",
        "print(arch.readline())\n",
        "print(arch.readline())\n",
        "print(arch.readline())\n",
        "arch.close()\n"
      ],
      "execution_count": 10,
      "outputs": [
        {
          "output_type": "stream",
          "text": [
            "manzana, pera, kiwi, aguacate\n",
            "\n",
            "limon , naranja\n",
            "\n",
            "sandia, papaya\n",
            "\n",
            "\n"
          ],
          "name": "stdout"
        }
      ]
    },
    {
      "cell_type": "code",
      "metadata": {
        "id": "WVLUFceEX5tP",
        "outputId": "d8e052a1-ba49-4e59-8b57-52d308b18f44",
        "colab": {
          "base_uri": "https://localhost:8080/",
          "height": 136
        }
      },
      "source": [
        "arch = open('frutas.txt','rt') #usar el readline con while para que lo haga solo\n",
        "data = 'ppp'\n",
        "while (data != ''):\n",
        "  data = arch.readline()\n",
        "  print(data)\n",
        "\n",
        "arch.close()"
      ],
      "execution_count": 13,
      "outputs": [
        {
          "output_type": "stream",
          "text": [
            "manzana, pera, kiwi, aguacate\n",
            "\n",
            "limon , naranja\n",
            "\n",
            "sandia, papaya\n",
            "\n",
            "\n"
          ],
          "name": "stdout"
        }
      ]
    },
    {
      "cell_type": "code",
      "metadata": {
        "id": "y_MbAtY2YuoD",
        "outputId": "887764d3-73cd-449c-f3b4-7bfd71678a64",
        "colab": {
          "base_uri": "https://localhost:8080/",
          "height": 34
        }
      },
      "source": [
        "arch = open('frutas.txt','rt') #Readlines: lee y regresa el archivo concatenado y saltos de linea escritos\n",
        "list_frutas = arch.readlines()\n",
        "print(list_frutas)\n",
        "arch.close()"
      ],
      "execution_count": 14,
      "outputs": [
        {
          "output_type": "stream",
          "text": [
            "['manzana, pera, kiwi, aguacate\\n', 'limon , naranja\\n', 'sandia, papaya\\n']\n"
          ],
          "name": "stdout"
        }
      ]
    },
    {
      "cell_type": "code",
      "metadata": {
        "id": "lg3dYm5-Hzlf"
      },
      "source": [
        "# pwd: ruta del directorio en el que estas\n",
        "# cd / para cambiar de directorio\n",
        "#Si el codigo esta bien pero marca algun error se debe reinciar el entorno de ejecucion"
      ],
      "execution_count": null,
      "outputs": []
    }
  ]
}