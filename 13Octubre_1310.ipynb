{
  "nbformat": 4,
  "nbformat_minor": 0,
  "metadata": {
    "colab": {
      "name": "13Octubre_1310.ipynb",
      "provenance": [],
      "authorship_tag": "ABX9TyMxMiCgFn1zdAx1zNwb1CV7",
      "include_colab_link": true
    },
    "kernelspec": {
      "name": "python3",
      "display_name": "Python 3"
    }
  },
  "cells": [
    {
      "cell_type": "markdown",
      "metadata": {
        "id": "view-in-github",
        "colab_type": "text"
      },
      "source": [
        "<a href=\"https://colab.research.google.com/github/leonardobc52/edd_1310_2021/blob/master/13Octubre_1310.ipynb\" target=\"_parent\"><img src=\"https://colab.research.google.com/assets/colab-badge.svg\" alt=\"Open In Colab\"/></a>"
      ]
    },
    {
      "cell_type": "code",
      "metadata": {
        "id": "lASsMtCplVsG",
        "outputId": "036b33d0-59b9-4024-a196-8b8a238a20f2",
        "colab": {
          "base_uri": "https://localhost:8080/",
          "height": 105
        }
      },
      "source": [
        "alumno = { \n",
        "          \"num_cta\" : 303030303 ,\n",
        "          \"carrera\" : \"ICO\",\n",
        "          \"promedio\" : 9.8,\n",
        "          \"materias\" :[\"EDD\",\"CyP\",\"Calidad\",\"Emprendimiento\"],\n",
        "          \"direccion\" : { \n",
        "                            \"calle\":\"rancho seco\",\n",
        "                            \"numero\" : 23 ,\n",
        "                            \"delegacion\" : \"Neza\",\n",
        "                            \"estado\" : {\n",
        "                                        \"id\" : 15 ,\n",
        "                                        \"nombre\" : \"Estado de Máxico\" ,\n",
        "                                        \"nombre_corto\" : \"EdoMex\"\n",
        "                                        } ,\n",
        "                            \"CP\":57170\n",
        "\n",
        "                        } \n",
        "          }\n",
        "print(alumno)\n",
        "alumno['carrera'] = \"Ingeniería en Computacion\"\n",
        "print(alumno)\n",
        "alumno['nombre_completo'] = {'primer' : \"Juan\" , \n",
        "                             'segundo' : \"Pedro\" , \n",
        "                             'materno' : \"Perez\" ,\n",
        "                             'paterno': \"Gómez\"}\n",
        "alumno['semestre'] = 3\n",
        "print(alumno)\n",
        "\n",
        "print(f\"{alumno['nombre_completo']['primer']} {alumno['nombre_completo']['segundo']}\")"
      ],
      "execution_count": 5,
      "outputs": [
        {
          "output_type": "stream",
          "text": [
            "{'num_cta': 303030303, 'carrera': 'ICO', 'promedio': 9.8, 'materias': ['EDD', 'CyP', 'Calidad', 'Emprendimiento'], 'direccion': {'calle': 'rancho seco', 'numero': 23, 'delegacion': 'Neza', 'estado': {'id': 15, 'nombre': 'Estado de Máxico', 'nombre_corto': 'EdoMex'}, 'CP': 57170}}\n",
            "{'num_cta': 303030303, 'carrera': 'Ingeniería en Computacion', 'promedio': 9.8, 'materias': ['EDD', 'CyP', 'Calidad', 'Emprendimiento'], 'direccion': {'calle': 'rancho seco', 'numero': 23, 'delegacion': 'Neza', 'estado': {'id': 15, 'nombre': 'Estado de Máxico', 'nombre_corto': 'EdoMex'}, 'CP': 57170}}\n",
            "{'num_cta': 303030303, 'carrera': 'Ingeniería en Computacion', 'promedio': 9.8, 'materias': ['EDD', 'CyP', 'Calidad', 'Emprendimiento'], 'direccion': {'calle': 'rancho seco', 'numero': 23, 'delegacion': 'Neza', 'estado': {'id': 15, 'nombre': 'Estado de Máxico', 'nombre_corto': 'EdoMex'}, 'CP': 57170}, 'nombre_completo': {'primer': 'Juan', 'segundo': 'Pedro', 'materno': 'Perez', 'paterno': 'Gómez'}, 'semestre': 3}\n",
            "Juan Pedro\n"
          ],
          "name": "stdout"
        }
      ]
    },
    {
      "cell_type": "code",
      "metadata": {
        "id": "sMYs88uWx9aF",
        "outputId": "dedb6377-c7ea-458e-913d-19689253e021",
        "colab": {
          "base_uri": "https://localhost:8080/",
          "height": 428
        }
      },
      "source": [
        "\"\"\"\n",
        "Clear: eliminar todos los elementos \n",
        "copy: crear una copia no fiscia del diccionario\n",
        "items: regresa una lista de tuplas\n",
        "keys: regresa las llaves dentro de un diccionario osea los elemtos sin los valores\n",
        "values: regresa los valores de cada elemento del diccionario\n",
        "\"\"\"\n",
        "llaves = alumno.keys()\n",
        "print(llaves)\n",
        "for llave  in llaves:\n",
        "  print(llave.upper())\n",
        "\n",
        "valores = alumno.values()\n",
        "for val in valores:\n",
        "  print(val)\n",
        "\n",
        "pares = alumno.items()\n",
        "print(pares) #aqui no se pueden modificar los valores, solo es de consulta\n",
        "for elem in pares:\n",
        "  print(f\"el campo { elem[0] } tiene el valor { elem[1] }\")"
      ],
      "execution_count": 10,
      "outputs": [
        {
          "output_type": "stream",
          "text": [
            "dict_keys(['num_cta', 'carrera', 'promedio', 'materias', 'direccion', 'nombre_completo', 'semestre'])\n",
            "NUM_CTA\n",
            "CARRERA\n",
            "PROMEDIO\n",
            "MATERIAS\n",
            "DIRECCION\n",
            "NOMBRE_COMPLETO\n",
            "SEMESTRE\n",
            "303030303\n",
            "Ingeniería en Computacion\n",
            "9.8\n",
            "['EDD', 'CyP', 'Calidad', 'Emprendimiento']\n",
            "{'calle': 'rancho seco', 'numero': 23, 'delegacion': 'Neza', 'estado': {'id': 15, 'nombre': 'Estado de Máxico', 'nombre_corto': 'EdoMex'}, 'CP': 57170}\n",
            "{'primer': 'Juan', 'segundo': 'Pedro', 'materno': 'Perez', 'paterno': 'Gómez'}\n",
            "3\n",
            "dict_items([('num_cta', 303030303), ('carrera', 'Ingeniería en Computacion'), ('promedio', 9.8), ('materias', ['EDD', 'CyP', 'Calidad', 'Emprendimiento']), ('direccion', {'calle': 'rancho seco', 'numero': 23, 'delegacion': 'Neza', 'estado': {'id': 15, 'nombre': 'Estado de Máxico', 'nombre_corto': 'EdoMex'}, 'CP': 57170}), ('nombre_completo', {'primer': 'Juan', 'segundo': 'Pedro', 'materno': 'Perez', 'paterno': 'Gómez'}), ('semestre', 3)])\n",
            "el campo num_cta tiene el valor 303030303\n",
            "el campo carrera tiene el valor Ingeniería en Computacion\n",
            "el campo promedio tiene el valor 9.8\n",
            "el campo materias tiene el valor ['EDD', 'CyP', 'Calidad', 'Emprendimiento']\n",
            "el campo direccion tiene el valor {'calle': 'rancho seco', 'numero': 23, 'delegacion': 'Neza', 'estado': {'id': 15, 'nombre': 'Estado de Máxico', 'nombre_corto': 'EdoMex'}, 'CP': 57170}\n",
            "el campo nombre_completo tiene el valor {'primer': 'Juan', 'segundo': 'Pedro', 'materno': 'Perez', 'paterno': 'Gómez'}\n",
            "el campo semestre tiene el valor 3\n"
          ],
          "name": "stdout"
        }
      ]
    },
    {
      "cell_type": "code",
      "metadata": {
        "id": "m6ycZyJy08eW",
        "outputId": "2d4d0b1d-08d3-4c1e-d858-7d320b1c9577",
        "colab": {
          "base_uri": "https://localhost:8080/",
          "height": 54
        }
      },
      "source": [
        "# Concatenar diccionarios\n",
        "computadora = {\"procesador\":\"intel i7\",\"ram\": \"Kingston 128GB\"}\n",
        "otros = {\"monitor\": \"LG 49\\\"\",\"hd\": \"Toshiba 1TB\"}\n",
        "#computadora += otros No se puede hacer de esta forma\n",
        "#Update: Sirve para concatenar los diccionarios\n",
        "computadora.update(otros)\n",
        "print(computadora)"
      ],
      "execution_count": 11,
      "outputs": [
        {
          "output_type": "stream",
          "text": [
            "{'procesador': 'intel i7', 'ram': 'Kingston 128GB', 'monitor': 'LG 49\"', 'hd': 'Toshiba 1TB'}\n"
          ],
          "name": "stdout"
        }
      ]
    },
    {
      "cell_type": "markdown",
      "metadata": {
        "id": "x5J6w45U2198"
      },
      "source": [
        "# Funciones (Modularidad)\n",
        "- Unidades de codigo reutilizable\n",
        "- Es un mecanismo de organizacion de codigo\n",
        "- Una funcion toma de 0 a n parametros de entrada\n",
        "- Tiene una sola salida (return) de cualquir tipo de dato\n",
        "- Solo puedes hacer dos cosas:\n",
        "   - Definirla\n",
        "   - Llamarla\n",
        "- Se definen con la palabra reservada 'def'"
      ]
    },
    {
      "cell_type": "code",
      "metadata": {
        "id": "BVH-z2sZ3798",
        "outputId": "1b2ddfb0-08ed-4f49-a846-a304e0947c42",
        "colab": {
          "base_uri": "https://localhost:8080/",
          "height": 170
        }
      },
      "source": [
        "def sumar (x , y):\n",
        "  resultado = x + y\n",
        "  return resultado\n",
        "\n",
        "def saludar ( nombre):\n",
        "  print(f\"Hola {nombre}, ¿Cómo estas?\")\n",
        "  return None  #Se recomienda poner el return None si no se quiere regresar algo, aunque no pasa nada si no se pone\n",
        "\n",
        "#procesar None\n",
        "\n",
        "def multiplicar( valor, veces ):\n",
        "  if valor != None:\n",
        "    c = valor * veces\n",
        "  else:\n",
        "    c = \"Opercacion no válida\"\n",
        "  return c\n",
        "\n",
        "def operacion(a , b , c): # Los valores tienen una posicion y respetan la posicion en la que son mandados\n",
        "  res = a + (b / c) \n",
        "  return res\n",
        "\n",
        "print(sumar(10,5))\n",
        "print(sumar(6,8))\n",
        "c = sumar (3,7)\n",
        "print(c)\n",
        "saludar(\"Jesus\") #Se pone asi porque no regresa nada \n",
        "print(multiplicar(5,6))\n",
        "print(multiplicar(None,6))\n",
        "\n",
        "print(operacion (2,9,3))\n",
        "print(operacion (2,3,9))\n",
        "\n",
        "print(operacion (a=2,c=9,b=3)) #Al hacer esto si puedes decidir a que elemento va cada valor \n"
      ],
      "execution_count": 20,
      "outputs": [
        {
          "output_type": "stream",
          "text": [
            "15\n",
            "14\n",
            "10\n",
            "Hola Jesus, ¿Cómo estas?\n",
            "30\n",
            "Opercacion no válida\n",
            "5.0\n",
            "2.3333333333333335\n",
            "2.3333333333333335\n"
          ],
          "name": "stdout"
        }
      ]
    },
    {
      "cell_type": "code",
      "metadata": {
        "id": "UJz6lZGa-jsp",
        "outputId": "7ab66c01-92b4-498b-c602-70ee672eda87",
        "colab": {
          "base_uri": "https://localhost:8080/",
          "height": 292
        }
      },
      "source": [
        "#valores por defecto: se pone el elemento con un igual y el valor por defecto que se quiere\n",
        "def comanda(primer , fuerte , postre=\"Galleta de animalito\" ):\n",
        "  print(f\"De entrada pidio: { primer } \")\n",
        "  print(f\"De plato fuerte pidio: { fuerte }\")\n",
        "  print(f\"De postre pidio: { postre }\")\n",
        "\n",
        "# argumentos posicionales con tuplas *\n",
        "def comanda_2( *opciones ): #De esta forma no tienes que ponerle diferentes nombres a cada elemento\n",
        "  print(opciones)\n",
        "  print(f\"De entrada pidio: { opciones[0] } \")\n",
        "  print(f\"De plato fuerte pidio: { opciones[1] }\")\n",
        "  print(f\"De postre pidio: { opciones[2] }\")\n",
        "  print(f\"\\nIndicaciones extra:\")\n",
        "  for ind in opciones[3::]:\n",
        "   print(f\"\\t{ind}\")\n",
        "\n",
        "comanda(\"sopa aguada\",\"Tortas de papa\",\"Gelatina de limon\")\n",
        "comanda(\"sopa aguada\",\"Tortas de papa\") #Como no se escribio el valor de este elemento se manda el por defecto\n",
        "comanda_2(\"sopa aguada\",\"Tortas de papa\",\"Gelatina de limon\", \n",
        "          \"las tortas bien doradas\", \"traer dos limones\" , \"agua con hielos\")\n"
      ],
      "execution_count": 29,
      "outputs": [
        {
          "output_type": "stream",
          "text": [
            "De entrada pidio: sopa aguada \n",
            "De plato fuerte pidio: Tortas de papa\n",
            "De postre pidio: Gelatina de limon\n",
            "De entrada pidio: sopa aguada \n",
            "De plato fuerte pidio: Tortas de papa\n",
            "De postre pidio: Galleta de animalito\n",
            "('sopa aguada', 'Tortas de papa', 'Gelatina de limon', 'las tortas bien doradas', 'traer dos limones', 'agua con hielos')\n",
            "De entrada pidio: sopa aguada \n",
            "De plato fuerte pidio: Tortas de papa\n",
            "De postre pidio: Gelatina de limon\n",
            "\n",
            "Indicaciones extra:\n",
            "\tlas tortas bien doradas\n",
            "\ttraer dos limones\n",
            "\tagua con hielos\n"
          ],
          "name": "stdout"
        }
      ]
    },
    {
      "cell_type": "code",
      "metadata": {
        "id": "9pPugXkoB6-L",
        "outputId": "13ca6efc-0dd5-42ee-b689-03235bf61685",
        "colab": {
          "base_uri": "https://localhost:8080/",
          "height": 156
        }
      },
      "source": [
        "#argumentos posicionales con diccionarios **\n",
        "def comanda_3(**opciones ):\n",
        "  print(opciones)\n",
        "  for op in opciones.items():\n",
        "    print(f\"{op[0]} -> {op[1]}\")\n",
        "\n",
        "comanda_3(primer=\"Sopa aguada\",fuerte=\"Tortas de papa\",postre=\"Gelatina de limon\", \n",
        "          extra1=\"Las tortas bien doradas\", extra2=\"Traer dos limones\" , extra3=\"Agua con hielos\")"
      ],
      "execution_count": 36,
      "outputs": [
        {
          "output_type": "stream",
          "text": [
            "{'primer': 'Sopa aguada', 'fuerte': 'Tortas de papa', 'postre': 'Gelatina de limon', 'extra1': 'Las tortas bien doradas', 'extra2': 'Traer dos limones', 'extra3': 'Agua con hielos'}\n",
            "primer -> Sopa aguada\n",
            "fuerte -> Tortas de papa\n",
            "postre -> Gelatina de limon\n",
            "extra1 -> Las tortas bien doradas\n",
            "extra2 -> Traer dos limones\n",
            "extra3 -> Agua con hielos\n"
          ],
          "name": "stdout"
        }
      ]
    }
  ]
}